{
  "nbformat": 4,
  "nbformat_minor": 0,
  "metadata": {
    "colab": {
      "provenance": []
    },
    "kernelspec": {
      "name": "python3",
      "display_name": "Python 3"
    },
    "language_info": {
      "name": "python"
    }
  },
  "cells": [
    {
      "cell_type": "markdown",
      "source": [
        "BÀI TẬP TRÊN LỚP"
      ],
      "metadata": {
        "id": "DVeeyc6zdyNm"
      }
    },
    {
      "cell_type": "code",
      "execution_count": null,
      "metadata": {
        "colab": {
          "base_uri": "https://localhost:8080/"
        },
        "id": "mHWaj42fdsN1",
        "outputId": "7077abc3-aba7-4914-b71a-7636b437d1c1"
      },
      "outputs": [
        {
          "output_type": "stream",
          "name": "stdout",
          "text": [
            "32\n",
            "32\n",
            "3.7416573867739413\n",
            "6.0\n",
            "6.0\n",
            "3.7416573867739413\n",
            "3.3019272488946263\n",
            "inf\n",
            "[[ 5  4 -4 -9]\n",
            " [-4  3 -3  8]\n",
            " [ 3 -2 -1  6]]\n",
            "[1.3 0.9 0. ]\n",
            "⎧   68         ⎫\n",
            "⎨x: ──, y: 1/69⎬\n",
            "⎩   69         ⎭\n",
            "[-7.000, 3.000]\n",
            "[-7, 3]\n",
            "[[-0.3  0.9]\n",
            " [ 0.3  0.1]]\n",
            "[[ 5.03503397e+18  3.50482117e+18]\n",
            " [ 3.50482117e+18 -4.31115581e+18]]\n",
            "[[49  0]\n",
            " [ 0  9]]\n"
          ]
        },
        {
          "output_type": "stream",
          "name": "stderr",
          "text": [
            "/usr/local/lib/python3.11/dist-packages/numpy/linalg/_linalg.py:2780: RuntimeWarning: overflow encountered in power\n",
            "  absx **= ord\n"
          ]
        }
      ],
      "source": [
        "import numpy as np\n",
        "a = np.array([1,2,3])\n",
        "b = np.array([4,5,6])\n",
        "tich = np.inner(a,b)\n",
        "print (tich)\n",
        "print(np.dot(a,b))\n",
        "\n",
        "import numpy as np\n",
        "a = np.array([1,2,-3])\n",
        "print(np.linalg.norm(a))\n",
        "print(np.linalg.norm(a,1))\n",
        "\n",
        "import math\n",
        "import numpy as np\n",
        "a=np.array([1,2,-3])\n",
        "print(np.linalg.norm(a,1))\n",
        "print(np.linalg.norm(a,2))\n",
        "print(np.linalg.norm(a,3))\n",
        "print(np.linalg.norm(a,1000))\n",
        "from scipy import linalg\n",
        "linalg.norm(a)\n",
        "linalg.norm(a,100)\n",
        "linalg.norm(a,1000)\n",
        "\n",
        "import numpy as np\n",
        "m = 10\n",
        "v1 = np.array([5,-4,3])\n",
        "v2 = np.array([4,3,-2])\n",
        "v3 = np.array([-4,-3,-1])\n",
        "v4 = np.array([-9,8,6])\n",
        "mi = np.array([2,5,2,1])\n",
        "M = np.array([v1,v2,v3,v4])\n",
        "MT = M.transpose()\n",
        "print(MT)\n",
        "v = (1.0/m)*MT.dot(mi)\n",
        "print (v)\n",
        "\n",
        "import numpy as np\n",
        "import sympy as sym\n",
        "x, y = sym.symbols('x y')\n",
        "xy = sym.Matrix([x,y])\n",
        "A = sym.Matrix([[1, -68],[1,1]])\n",
        "v = sym.Matrix([0, 1])\n",
        "nghiem = sym.solve([A*xy-v])\n",
        "print(sym.pretty(nghiem))\n",
        "\n",
        "import sympy\n",
        "x, y, Lambda = sympy.symbols('x y Lambda')\n",
        "I = sympy.eye(2)\n",
        "A = sympy.Matrix([[2,3],[3,-6]])\n",
        "phuongtrinh = sympy.Eq(sympy.det(Lambda*I-A), 0)\n",
        "nghiem = sympy.solve(phuongtrinh)\n",
        "print([sympy.N(phantu,4) for phantu in nghiem])\n",
        "print (sympy.pretty(nghiem))\n",
        "\n",
        "import numpy as np\n",
        "A = np.array([[2,3],[3,-6]])\n",
        "D = np.array([[-7,0],[0,3]])\n",
        "P = np.array([[-1.0/3, 3],[1,1]])\n",
        "from numpy import linalg\n",
        "from numpy import linalg as LA\n",
        "P1 = LA.inv(P)\n",
        "print (P1)\n",
        "A.dot(P)\n",
        "A.dot(D)\n",
        "print(P @ (D ** 1000) @ P1)\n",
        "print (D **2)"
      ]
    },
    {
      "cell_type": "markdown",
      "source": [
        "BÀI TẬP VỀ NHÀ"
      ],
      "metadata": {
        "id": "luSlUJMxg0Y3"
      }
    },
    {
      "cell_type": "markdown",
      "source": [
        "câu 1 :  \n",
        "a b c d đều đúng"
      ],
      "metadata": {
        "id": "UrwdYYpFc_Py"
      }
    },
    {
      "cell_type": "code",
      "source": [
        "#câu 2 :\n",
        "#a\n",
        "import numpy as np\n",
        "\n",
        "u = np.array([1, 2 ])\n",
        "v = np.array([2, 3])\n",
        "\n",
        "kcach = np.linalg.norm(u - v)\n",
        "print(\"Khoảng cách:\", kcach)\n",
        "#b\n",
        "dot_product = np.dot(u, v)\n",
        "norm_u = np.linalg.norm(u)\n",
        "norm_v = np.linalg.norm(v)\n",
        "\n",
        "cos = dot_product / (norm_u * norm_v)\n",
        "goc = np.arccos(np.clip(cos, -1.0, 1.0))\n",
        "print(\"Góc :\", goc)\n",
        "#c\n",
        "chieu = (np.dot(u, v) / np.dot(v, v)) * v\n",
        "print(\"Phép chiếu:\", chieu)\n"
      ],
      "metadata": {
        "id": "T5xDeU_6g2Yf",
        "colab": {
          "base_uri": "https://localhost:8080/"
        },
        "outputId": "c9f61f3d-161e-4228-f1af-fb618ebe2a30"
      },
      "execution_count": 3,
      "outputs": [
        {
          "output_type": "stream",
          "name": "stdout",
          "text": [
            "Khoảng cách: 1.4142135623730951\n",
            "Góc : 0.12435499454676072\n",
            "Phép chiếu: [1.23076923 1.84615385]\n"
          ]
        }
      ]
    }
  ]
}