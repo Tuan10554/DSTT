{
  "nbformat": 4,
  "nbformat_minor": 0,
  "metadata": {
    "colab": {
      "provenance": []
    },
    "kernelspec": {
      "name": "python3",
      "display_name": "Python 3"
    },
    "language_info": {
      "name": "python"
    }
  },
  "cells": [
    {
      "cell_type": "markdown",
      "source": [
        "BÀI TẬP TRÊN LỚP"
      ],
      "metadata": {
        "id": "zzqOn-U5bGuO"
      }
    },
    {
      "cell_type": "code",
      "execution_count": null,
      "metadata": {
        "colab": {
          "base_uri": "https://localhost:8080/"
        },
        "id": "sIaiyO5IZQLz",
        "outputId": "63a3a641-8627-4cab-cf7f-5d5f10f8ff76"
      },
      "outputs": [
        {
          "output_type": "stream",
          "name": "stdout",
          "text": [
            "[[1 2]\n",
            " [3 4]]\n",
            "[[\"[['a' 'b']\\n ['c' 'd']]\" 'x']\n",
            " ['1' '2']]\n",
            "[[[1 2]\n",
            "  [3 4]]\n",
            "\n",
            " [[5 6]\n",
            "  [7 8]]]\n",
            "[[1. 0. 0. 0. 0.]\n",
            " [0. 1. 0. 0. 0.]\n",
            " [0. 0. 1. 0. 0.]\n",
            " [0. 0. 0. 1. 0.]\n",
            " [0. 0. 0. 0. 1.]]\n",
            "[[ 0.24656019 -1.25591149]\n",
            " [ 0.48911335 -1.18095542]\n",
            " [ 0.26204843  0.019891  ]]\n",
            "[[0. 0. 0. 0.]\n",
            " [0. 0. 0. 0.]\n",
            " [0. 0. 0. 0.]\n",
            " [0. 0. 0. 0.]]\n",
            "[[165707065  80143857]\n",
            " [ 52746197  25510582]]\n",
            "3.1415926535897936\n",
            "Hệ số hồi quy tuyến tính: [-0.2  1.2]\n"
          ]
        }
      ],
      "source": [
        "import numpy as np\n",
        "D = np.array([[1, 2], [3, 4]])\n",
        "E = np.array([[1, 2], [3, 5]])\n",
        "np.copyto(E, D)\n",
        "print(E)\n",
        "B = np.matrix(\"[1 2 3; 4 5 6]\")\n",
        "\n",
        "x = np.array([['a', 'b'], ['c', 'd']])\n",
        "y = 'x'\n",
        "C = np.matrix([[str(x), y], [1, 2]])\n",
        "print(C)\n",
        "A = np.array([[[1,2],[3,4]],[[5,6],[7,8]]])\n",
        "print(A)\n",
        "\n",
        "from numpy import matlib\n",
        "G = matlib.identity(5)\n",
        "print(G)\n",
        "H = matlib.randn(3, 2)\n",
        "print(H)\n",
        "K = matlib.zeros([4, 4])\n",
        "print(K)\n",
        "\n",
        "import numpy as np\n",
        "c = [3, 7, 15, 1, 292, 1, 1, 1, 2, 1, 3, 1, 14, 2]\n",
        "M = np.matrix([[1, 2], [3, 4]])\n",
        "for i in range(len(c)):\n",
        "    ci = np.matrix([[1, 1], [1, 0]])\n",
        "    ci[0, 0] = c[i]\n",
        "    if i == 0:\n",
        "        M = ci\n",
        "    else:\n",
        "        M = M.dot(ci)\n",
        "print(M)\n",
        "print(M[0, 0] / M[1, 0])\n",
        "\n",
        "X = np.array([[1, 1], [1, 2], [1, 3], [1, 4], [1, 5]])\n",
        "Y = np.array([1, 2, 4, 4, 6])\n",
        "XT = X.T\n",
        "A1 = np.linalg.inv(XT.dot(X))\n",
        "A2 = XT.dot(Y)\n",
        "A = A1.dot(A2)\n",
        "print(\"Hệ số hồi quy tuyến tính:\", A)"
      ]
    },
    {
      "cell_type": "markdown",
      "source": [
        "BÀI TẬP VỀ NHÀ"
      ],
      "metadata": {
        "id": "oPK2fka-bMbY"
      }
    },
    {
      "cell_type": "code",
      "source": [
        "def bpcuctieu(a):\n",
        "    import numpy as np\n",
        "    b = []\n",
        "    o1 = []\n",
        "    for i in range(len(a)):\n",
        "        o1.append(1.0)\n",
        "        b.append(i * 1.0)\n",
        "    x = np.array([o1, b])\n",
        "    u = np.dot(x, x.T)\n",
        "    y = np.array(a)\n",
        "    from numpy import linalg\n",
        "    u_1 = np.linalg.inv(u)\n",
        "    v = np.dot(u_1, x)\n",
        "    A = np.dot(v, y)\n",
        "    return A\n",
        "dulieu = [10.0, 8, 7, 5, 2]\n",
        "A = bpcuctieu(dulieu)\n",
        "print(f\"Phương trình : y = {A[0]:.2f} + ({A[1]:.2f})*x\")\n"
      ],
      "metadata": {
        "colab": {
          "base_uri": "https://localhost:8080/"
        },
        "id": "L4Qh8DWObOYo",
        "outputId": "aaecdcff-c50c-42e4-fb48-4c3dd09f6fae"
      },
      "execution_count": null,
      "outputs": [
        {
          "output_type": "stream",
          "name": "stdout",
          "text": [
            "Phương trình : y = 10.20 + (-1.90)*x\n"
          ]
        }
      ]
    }
  ]
}