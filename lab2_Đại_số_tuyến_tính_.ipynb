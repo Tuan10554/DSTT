{
  "nbformat": 4,
  "nbformat_minor": 0,
  "metadata": {
    "colab": {
      "provenance": []
    },
    "kernelspec": {
      "name": "python3",
      "display_name": "Python 3"
    },
    "language_info": {
      "name": "python"
    }
  },
  "cells": [
    {
      "cell_type": "markdown",
      "source": [
        "BÀI TẬP TRÊN LỚP"
      ],
      "metadata": {
        "id": "0yL9S7BAUlAm"
      }
    },
    {
      "cell_type": "code",
      "source": [
        "# Dẫn nhập – Một số hàm về xử lý vector với Python\n",
        "def scale(a,v):\n",
        "  return [a*vi for vi in v]\n",
        "v=[3,5,7]\n",
        "print(scale(10,v))\n",
        "\n",
        "def sumvector(v, w):\n",
        "  return [vi+wi for (vi, wi) in zip(v, w)]\n",
        "v = [3,5,7]\n",
        "w = [2,4,6]\n",
        "print(sumvector(v, w))\n",
        "def dotvector(v, w):\n",
        "  return sum([vi*wi for (vi, wi) in zip(v, w)])\n",
        "print(dotvector(v, w))\n",
        "\n",
        "def lenvector(v):\n",
        "  return dotvector(v,v)\n",
        "lenvector(w)"
      ],
      "metadata": {
        "colab": {
          "base_uri": "https://localhost:8080/"
        },
        "id": "CMkKdY9zV4R4",
        "outputId": "513d70a8-ec0f-4b66-9c77-a9c583cb4f2b"
      },
      "execution_count": null,
      "outputs": [
        {
          "output_type": "stream",
          "name": "stdout",
          "text": [
            "[30, 50, 70]\n",
            "[5, 9, 13]\n",
            "68\n"
          ]
        },
        {
          "output_type": "execute_result",
          "data": {
            "text/plain": [
              "56"
            ]
          },
          "metadata": {},
          "execution_count": 11
        }
      ]
    },
    {
      "cell_type": "code",
      "source": [
        "# Phân loại tuyến tính\n",
        "import numpy as np\n",
        "scores=np.array([-1,1,2,-3,5,-4])\n",
        "print (scores)\n",
        "print(scores >=0)\n",
        "print(scores <0)\n",
        "# Convert scores to strings before using np.select\n",
        "a=np.select([scores >=0, scores < 0],['so duong', 'so am'], default='khong xac dinh')\n",
        "print(a)\n",
        "scores  = np.array([-1, 1, 2, 0, -3, 5, 0, -4])\n",
        "b=np.select([scores >0, scores ==0, scores < 0],['so duong', 'so 0', 'so am'],default='khong xac dinh')\n",
        "print(b)"
      ],
      "metadata": {
        "colab": {
          "base_uri": "https://localhost:8080/"
        },
        "id": "OspSCqGzX7Fw",
        "outputId": "36c760d8-8831-456a-9703-b7e9622dcede"
      },
      "execution_count": null,
      "outputs": [
        {
          "output_type": "stream",
          "name": "stdout",
          "text": [
            "[-1  1  2 -3  5 -4]\n",
            "[False  True  True False  True False]\n",
            "[ True False False  True False  True]\n",
            "['so am' 'so duong' 'so duong' 'so am' 'so duong' 'so am']\n",
            "['so am' 'so duong' 'so duong' 'so 0' 'so am' 'so duong' 'so 0' 'so am']\n"
          ]
        }
      ]
    },
    {
      "cell_type": "code",
      "source": [
        "#Thực hành xử lý ma trận\n",
        "# bài 1\n",
        "import numpy as np\n",
        "from scipy import linalg, sparse\n",
        "D = np.asmatrix([ [3,4], [5,6] ])\n",
        "print (D)\n",
        "# bài 2\n",
        "C=np.asmatrix(np.random.random((5,7)))\n",
        "print (C)\n",
        "# bài 3\n",
        "A=np.asmatrix(np.random.random((2,2)))\n",
        "print (A)\n",
        "# bài 4\n",
        "b = np.array([(1+5j, 2j, 3j),(4, 5, 6)])\n",
        "B = np.asmatrix(b)\n",
        "# bài 5\n",
        "print(b)\n",
        "print(B)\n",
        "print(A.T)\n",
        "# bài 6\n",
        "print(A.I)\n",
        "# bài 7\n",
        "print(linalg.inv(A) )\n",
        "# bài 8\n",
        "M = np.array([[-1,3,2],[0,2,1],[1,5,-2]])\n",
        "M_lower = np.tril(M)\n",
        "print(M_lower)\n",
        "# bài 9\n",
        "M = np.array([[-1,3,2],[0,2,1],[1,5,-2]])\n",
        "M_upper = np.triu(M)\n",
        "print(M_upper)\n",
        "# bài 10\n",
        "M = np.array([[-1,3,2],[0,2,1],[1,5,-2]])\n",
        "v_diag = np.diag(M) #vector\n",
        "print (v_diag)\n",
        "M_diag = np.diag(v_diag)\n",
        "print (M_diag)"
      ],
      "metadata": {
        "colab": {
          "base_uri": "https://localhost:8080/"
        },
        "id": "ZaYKj268hbeg",
        "outputId": "5ead4aee-c732-4761-c57b-81df6d0689f4"
      },
      "execution_count": null,
      "outputs": [
        {
          "output_type": "stream",
          "name": "stdout",
          "text": [
            "[[3 4]\n",
            " [5 6]]\n",
            "[[0.13573399 0.63636116 0.24326047 0.34377929 0.91968625 0.35143427\n",
            "  0.83719396]\n",
            " [0.13692869 0.98530264 0.83376575 0.35127682 0.51837695 0.93970463\n",
            "  0.21901036]\n",
            " [0.91528096 0.27736529 0.56464569 0.29674157 0.78359012 0.99388185\n",
            "  0.10404111]\n",
            " [0.93724143 0.41118312 0.8911346  0.77125524 0.01665682 0.54307385\n",
            "  0.60025346]\n",
            " [0.46680931 0.53207544 0.92164978 0.40031589 0.30896057 0.1883967\n",
            "  0.5281094 ]]\n",
            "[[0.91550463 0.65668119]\n",
            " [0.62275767 0.37607362]]\n",
            "[[1.+5.j 0.+2.j 0.+3.j]\n",
            " [4.+0.j 5.+0.j 6.+0.j]]\n",
            "[[1.+5.j 0.+2.j 0.+3.j]\n",
            " [4.+0.j 5.+0.j 6.+0.j]]\n",
            "[[0.91550463 0.62275767]\n",
            " [0.65668119 0.37607362]]\n",
            "[[ -5.81652121  10.15652223]\n",
            " [  9.6318461  -14.15960038]]\n",
            "[[ -5.81652121  10.15652223]\n",
            " [  9.6318461  -14.15960038]]\n",
            "[[-1  0  0]\n",
            " [ 0  2  0]\n",
            " [ 1  5 -2]]\n",
            "[[-1  3  2]\n",
            " [ 0  2  1]\n",
            " [ 0  0 -2]]\n",
            "[-1  2 -2]\n",
            "[[-1  0  0]\n",
            " [ 0  2  0]\n",
            " [ 0  0 -2]]\n"
          ]
        }
      ]
    },
    {
      "cell_type": "code",
      "source": [
        "#Các phép biến đổi sơ cấp trên ma trận\n",
        "import numpy as np\n",
        "A = np.reshape(np.arange(36.0), (6,6))\n",
        "print (A)\n",
        "I6 = np.identity(6)\n",
        "print (I6)\n",
        "print(A.size)\n",
        "print(np.matrix.diagonal(A))\n",
        "A = A + I6\n",
        "print (A)\n",
        "vecB = np.array([1., 2., 3., 4., 5., 6.])\n",
        "C = A.dot(vecB)\n",
        "print (C)\n",
        "D = np.array([[1., 2., 3., 4., 5., 6.], [1., 0., 1., 0., 1., 0.]])\n",
        "print (D)\n",
        "E = A.dot(D)\n",
        "print(E)\n",
        "F = np.array([[1., 1.], [2., 0.], [3., 1.], [4., 0], [5., 1], [6., 0.]])\n",
        "G = A.dot(F)\n",
        "print (F)\n",
        "print(G)\n",
        "a1=np.linalg.inv(A)\n",
        "print(a1)\n",
        "a2=np.linalg.inv(np.linalg.inv(A))\n",
        "print(a2)\n"
      ],
      "metadata": {
        "colab": {
          "base_uri": "https://localhost:8080/"
        },
        "id": "ppUdYYPddfC8",
        "outputId": "5b4197a9-03da-48e4-a1c0-ed9664c2f83f"
      },
      "execution_count": null,
      "outputs": [
        {
          "output_type": "stream",
          "name": "stdout",
          "text": [
            "[[ 0.  1.  2.  3.  4.  5.]\n",
            " [ 6.  7.  8.  9. 10. 11.]\n",
            " [12. 13. 14. 15. 16. 17.]\n",
            " [18. 19. 20. 21. 22. 23.]\n",
            " [24. 25. 26. 27. 28. 29.]\n",
            " [30. 31. 32. 33. 34. 35.]]\n",
            "[[1. 0. 0. 0. 0. 0.]\n",
            " [0. 1. 0. 0. 0. 0.]\n",
            " [0. 0. 1. 0. 0. 0.]\n",
            " [0. 0. 0. 1. 0. 0.]\n",
            " [0. 0. 0. 0. 1. 0.]\n",
            " [0. 0. 0. 0. 0. 1.]]\n",
            "36\n",
            "[ 0.  7. 14. 21. 28. 35.]\n",
            "[[ 1.  1.  2.  3.  4.  5.]\n",
            " [ 6.  8.  8.  9. 10. 11.]\n",
            " [12. 13. 15. 15. 16. 17.]\n",
            " [18. 19. 20. 22. 22. 23.]\n",
            " [24. 25. 26. 27. 29. 29.]\n",
            " [30. 31. 32. 33. 34. 36.]]\n",
            "[ 71. 198. 325. 452. 579. 706.]\n",
            "[[1. 2. 3. 4. 5. 6.]\n",
            " [1. 0. 1. 0. 1. 0.]]\n",
            "[[ 71.   7.]\n",
            " [198.  24.]\n",
            " [325.  43.]\n",
            " [452.  60.]\n",
            " [579.  79.]\n",
            " [706.  96.]]\n",
            "[[1. 1.]\n",
            " [2. 0.]\n",
            " [3. 1.]\n",
            " [4. 0.]\n",
            " [5. 1.]\n",
            " [6. 0.]]\n",
            "[[ 71.   7.]\n",
            " [198.  24.]\n",
            " [325.  43.]\n",
            " [452.  60.]\n",
            " [579.  79.]\n",
            " [706.  96.]]\n",
            "[[ 0.37022901 -0.45610687 -0.28244275 -0.10877863  0.0648855   0.23854962]\n",
            " [-0.44656489  0.65839695 -0.23664122 -0.13167939 -0.02671756  0.07824427]\n",
            " [-0.26335878 -0.22709924  0.80916031 -0.15458015 -0.11832061 -0.08206107]\n",
            " [-0.08015267 -0.11259542 -0.14503817  0.82251908 -0.20992366 -0.24236641]\n",
            " [ 0.10305344  0.0019084  -0.09923664 -0.20038168  0.69847328 -0.40267176]\n",
            " [ 0.28625954  0.11641221 -0.05343511 -0.22328244 -0.39312977  0.4370229 ]]\n",
            "[[ 1.  1.  2.  3.  4.  5.]\n",
            " [ 6.  8.  8.  9. 10. 11.]\n",
            " [12. 13. 15. 15. 16. 17.]\n",
            " [18. 19. 20. 22. 22. 23.]\n",
            " [24. 25. 26. 27. 29. 29.]\n",
            " [30. 31. 32. 33. 34. 36.]]\n"
          ]
        }
      ]
    },
    {
      "cell_type": "code",
      "source": [
        "#Tính toán dãy Fibonacci\n",
        "import numpy as np\n",
        "A = np.array( [ [1,1], [1,0] ] )\n",
        "b = np.array([1, 0])\n",
        "n = 10\n",
        "\n",
        "for i in range(n):\n",
        "  b = A.dot(b)\n",
        "print(b)"
      ],
      "metadata": {
        "colab": {
          "base_uri": "https://localhost:8080/"
        },
        "id": "Tu4RnEEUbKX5",
        "outputId": "1491e5dc-d729-4bfb-f9a2-7b7aaafd7f30"
      },
      "execution_count": null,
      "outputs": [
        {
          "output_type": "stream",
          "name": "stdout",
          "text": [
            "[89 55]\n"
          ]
        }
      ]
    },
    {
      "cell_type": "code",
      "source": [
        "#Đếm số lượng xe vào khu vực trung tâm\n",
        "import sympy as sp\n",
        "from sympy import Symbol\n",
        "x1 = Symbol('x1')\n",
        "x2 = Symbol('x2')\n",
        "x3 = Symbol('x3')\n",
        "x4 = Symbol('x4')\n",
        "from sympy import solve\n",
        "pt1 = x4+610-450-x1\n",
        "pt2 = x1+400-x2-640\n",
        "pt3 = x2+600-x3\n",
        "pt4 = x3-x4-520\n",
        "nghiem = sp.solve((pt1, pt2, pt3, pt4))\n",
        "print(nghiem )\n",
        "import numpy as np\n",
        "from scipy import linalg\n",
        "A = np.matrix([[-1,0,0,1],[1,-1,0,0],[0,1,-1,0],[0,0,1,-1]])\n",
        "print(A)"
      ],
      "metadata": {
        "colab": {
          "base_uri": "https://localhost:8080/"
        },
        "id": "uAQb8EejdTZc",
        "outputId": "717cf724-04a1-4272-9dd2-e4c1154976d9"
      },
      "execution_count": null,
      "outputs": [
        {
          "output_type": "stream",
          "name": "stdout",
          "text": [
            "{x1: x4 + 160, x2: x4 - 80, x3: x4 + 520}\n",
            "[[-1  0  0  1]\n",
            " [ 1 -1  0  0]\n",
            " [ 0  1 -1  0]\n",
            " [ 0  0  1 -1]]\n"
          ]
        }
      ]
    },
    {
      "cell_type": "markdown",
      "source": [
        "BÀI TẬP VỀ NHÀ\n"
      ],
      "metadata": {
        "id": "4C24lxWElqF5"
      }
    },
    {
      "cell_type": "code",
      "source": [
        "#Câu 1\n",
        "import numpy as np\n",
        "\n",
        "# 1\n",
        "A1 = np.array([[1, -1], [2, 3]])\n",
        "b1 = np.array([-2, 6])\n",
        "sol1 = np.linalg.solve(A1, b1)\n",
        "print(\" vấn đề 1\", sol1)\n",
        "#  2\n",
        "A2 = np.array([[1, -1, 0], [2, -1, -1], [1, 1, 1]])\n",
        "b2 = np.array([2, 3, 6])\n",
        "sol2 = np.linalg.solve(A2, b2)\n",
        "print(\" vấn đề 2 \", sol2)\n",
        "\n",
        "# 3\n",
        "A3 = np.array([[1, 1, 1], [4, 2, 1], [9, 3, 1]])\n",
        "b3 = np.array([4, 3, 4])\n",
        "sol3 = np.linalg.solve(A3, b3)\n",
        "print(\" vấn đề 3\", sol3)\n",
        "#  4\n",
        "A4 = np.array([[1, 0, 1], [1, 1, -2], [-2, 2, 1]])\n",
        "b4 = np.array([1, -3, 0])\n",
        "sol4 = np.linalg.solve(A4, b4)\n",
        "print(\" vấn đề 4\", sol4)\n"
      ],
      "metadata": {
        "id": "SLFzETCHlvJ2",
        "colab": {
          "base_uri": "https://localhost:8080/"
        },
        "outputId": "b0a59fbd-bc3b-437c-bf70-673e40632aed"
      },
      "execution_count": null,
      "outputs": [
        {
          "output_type": "stream",
          "name": "stdout",
          "text": [
            " vấn đề 1 [0. 2.]\n",
            " vấn đề 2  [3. 1. 2.]\n",
            " vấn đề 3 [ 1. -4.  7.]\n",
            " vấn đề 4 [-0.11111111 -0.66666667  1.11111111]\n"
          ]
        }
      ]
    },
    {
      "cell_type": "code",
      "source": [
        "# câu 2.1\n",
        "import sympy as sp\n",
        "from sympy import Symbol\n",
        "x= Symbol('x ')\n",
        "y= Symbol('y ')\n",
        "from sympy import solve\n",
        "pt1 = x - y + 2\n",
        "pt2 = 2*x + 3*y - 6\n",
        "sol = solve([pt1, pt2], (x, y))\n",
        "print(\"Nghiệm của hệ là:\", sol)\n",
        "# 2,2\n",
        "x= Symbol('x')\n",
        "y= Symbol('y')\n",
        "z= Symbol('z')\n",
        "pt1 = x - y - 2\n",
        "pt2 = 2*x - y - z - 3\n",
        "pt3 = x + y + z - 6\n",
        "sol2 = solve([pt1, pt2, pt3], (x, y, z))\n",
        "print(\"Nghiệm hệ phương trình:\", sol2)\n",
        "# 2.3\n",
        "a= Symbol('a')\n",
        "b= Symbol('b')\n",
        "c= Symbol('c')\n",
        "pt4 = a + b + c - 4\n",
        "pt5 = 4*a + 2*b + c - 3\n",
        "pt6 = 9*a + 3*b + c - 4\n",
        "sol3 = solve([pt4, pt5, pt6], (a, b, c))\n",
        "print(\"Hệ số đa thức bậc 2:\", sol3)\n",
        "#2.4\n",
        "pt7 = a + c - 1\n",
        "pt8 = a + b - 2*c + 3\n",
        "pt9 = -2*a + 2*b + c\n",
        "sol4 = solve([pt7, pt8, pt9], (a, b, c))\n",
        "print(\"Nghiệm phân tích phân thức:\", sol4)"
      ],
      "metadata": {
        "colab": {
          "base_uri": "https://localhost:8080/"
        },
        "id": "yaTuV2QyqsFc",
        "outputId": "5cc14001-2cdc-417d-b868-14e2a3221f77"
      },
      "execution_count": null,
      "outputs": [
        {
          "output_type": "stream",
          "name": "stdout",
          "text": [
            "Nghiệm của hệ là: {x : 0, y : 2}\n",
            "Nghiệm hệ phương trình: {x: 3, y: 1, z: 2}\n",
            "Hệ số đa thức bậc 2: {a: 1, b: -4, c: 7}\n",
            "Nghiệm phân tích phân thức: {a: -1/9, b: -2/3, c: 10/9}\n"
          ]
        }
      ]
    },
    {
      "cell_type": "code",
      "source": [
        "#câu 3\n",
        "from sympy import Matrix\n",
        "F = Matrix([[1, 1], [1, 0]])\n",
        "k = 5\n",
        "Fk = F**k\n",
        "print(f\"Ma trận F^{k}:\")\n",
        "print(Fk)\n",
        "def fib(n):\n",
        "    if n == 0: return 0\n",
        "    if n == 1: return 1\n",
        "    a, b = 0, 1\n",
        "    for i in range(2, n + 1):\n",
        "        a, b = b, a + b\n",
        "    return b\n",
        "F_check = Matrix([\n",
        "    [fib(k+1), fib(k)],\n",
        "    [fib(k), fib(k-1)]\n",
        "])\n",
        "print(\"Ma trận Fibonacci từ công thức:\")\n",
        "print(F_check)\n",
        "\n"
      ],
      "metadata": {
        "id": "H-T7uovywBtx",
        "colab": {
          "base_uri": "https://localhost:8080/"
        },
        "outputId": "ee36f0c5-4c1b-49b0-d638-655011c0f79e"
      },
      "execution_count": 2,
      "outputs": [
        {
          "output_type": "stream",
          "name": "stdout",
          "text": [
            "Ma trận F^5:\n",
            "Matrix([[8, 5], [5, 3]])\n",
            "Ma trận Fibonacci từ công thức:\n",
            "Matrix([[8, 5], [5, 3]])\n"
          ]
        }
      ]
    }
  ]
}