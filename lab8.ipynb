{
  "nbformat": 4,
  "nbformat_minor": 0,
  "metadata": {
    "colab": {
      "provenance": []
    },
    "kernelspec": {
      "name": "python3",
      "display_name": "Python 3"
    },
    "language_info": {
      "name": "python"
    }
  },
  "cells": [
    {
      "cell_type": "markdown",
      "source": [
        "BÀI TẬP TRÊN LỚP"
      ],
      "metadata": {
        "id": "hzGB3xucl7Bl"
      }
    },
    {
      "cell_type": "code",
      "execution_count": 22,
      "metadata": {
        "colab": {
          "base_uri": "https://localhost:8080/"
        },
        "id": "AfgenL4mlzAA",
        "outputId": "fef46a0d-440a-4544-dc7d-f94af4e708d7"
      },
      "outputs": [
        {
          "output_type": "stream",
          "name": "stdout",
          "text": [
            "[ 18 -11   9  -8]\n",
            "[ 9.  -5.5  4.5 -4. ]\n",
            "[ 1. -2. -1.]\n",
            "Matrix([[x1 + x2, y1 + y2], [y1 + y2, x1 + x2]])\n",
            "True\n",
            "Matrix([[c*x, c*y], [c*y, c*x]])\n",
            "True\n",
            "Nghiệm hệ phương trình: [ 5.00000000e-01 -1.66533454e-16 -5.00000000e-01]\n",
            "{c1: 0, c2: 0, c3: 0}\n",
            "{c1: 0, c2: 0}\n",
            "[[4 4 7 7 5 5 6 6 5 5]\n",
            " [2 7 7 6 6 5 5 4 4 2]]\n",
            "[[ 4.  4.  7.  7.  5.  5.  6.  6.  5.  5.]\n",
            " [-2.  8.  8.  6.  6.  4.  4.  2.  2. -2.]]\n",
            "a - b + c\n",
            "d - e + f\n",
            "[a + 4*b a + 2*b 2*a + b]\n",
            "[3*x - y -x + y -8*x + 5*y]\n"
          ]
        },
        {
          "output_type": "execute_result",
          "data": {
            "text/plain": [
              "array([[-0.70710678,  0.70710678],\n",
              "       [ 0.70710678,  0.70710678]])"
            ]
          },
          "metadata": {},
          "execution_count": 22
        }
      ],
      "source": [
        "import numpy as np\n",
        "u = np.array([2,-1,5,0])\n",
        "v = np.array([4,3,1,-1])\n",
        "w = np.array([-6,2,0,3])\n",
        "x = 2*u-(v+3*w)\n",
        "print (x)\n",
        "\n",
        "x = 0.5*(2*u-v-3*w)\n",
        "print (x)\n",
        "\n",
        "from numpy import linalg\n",
        "A = np.matrix([[0, -1, 3],[1, 1, 1],[4, 2, 2]])\n",
        "B = np.array([-1, -2, -2])\n",
        "X = np.linalg.solve(A, B)\n",
        "print (X)\n",
        "\n",
        "A = np.matrix([[1,0],[0,0]])\n",
        "B = np.matrix([[0,0],[0,1]])\n",
        "from numpy import linalg as LA\n",
        "LA.det(A)\n",
        "LA.det(B)\n",
        "LA.det(A+B)\n",
        "\n",
        "import sympy as sp\n",
        "x, y = sp.symbols('x y')\n",
        "A = sp.Matrix([[x, y],[y, x]])\n",
        "x1, y1 = sp.symbols('x1 y1')\n",
        "\n",
        "A1 = sp.Matrix([[x1, y1],[y1, x1]])\n",
        "x2, y2 = sp.symbols('x2 y2')\n",
        "A2 = sp.Matrix([[x2, y2],[y2, x2]])\n",
        "A1.T\n",
        "print((A1+A2).T )\n",
        "print(((A1+A2).T).equals(A1+A2))\n",
        "c = sp.symbols('c')\n",
        "print (c*A)\n",
        "print(((c*A).T).equals(c*A))\n",
        "\n",
        "import numpy as np\n",
        "from numpy.linalg import solve\n",
        "v1 = [1, 2, 3]\n",
        "v2 = [0, 1, 2]\n",
        "v3 = [-1, 0, 1]\n",
        "w = [1, 1, 1]\n",
        "A = np.column_stack([v1, v2, v3])\n",
        "x = solve(A, w)\n",
        "print(\"Nghiệm hệ phương trình:\", x)\n",
        "\n",
        "import sympy as sp\n",
        "c1, c2, c3 = sp.symbols('c1 c2 c3')\n",
        "print(sp.solve([c1-2*c3, 2*c1+c2, 3*c1+2*c2+c3], [c1, c2, c3]))\n",
        "\n",
        "import sympy as sp\n",
        "c1, c2 = sp.symbols('c1 c2')\n",
        "u1, u2 = sp.symbols('u1 u2')\n",
        "sp.solve([c1+c2-u1,c1-c2-u2])\n",
        "u1 = 0\n",
        "u2 = 0\n",
        "print(sp.solve([c1+c2-u1,c1-c2-u2]))\n",
        "\n",
        "import numpy as np\n",
        "P = np.array([[0,0,3,3,1,1,2,2,1,1],[0,5,5,4,4,3,3,2,2,0]])\n",
        "vecdelta = np.array([4,2])\n",
        "P_caua = (P.T + vecdelta).T\n",
        "print (P_caua)\n",
        "\n",
        "import numpy as np\n",
        "P = np.array([[0,0,3,3,1,1,2,2,1,1],[0,5,5,4,4,3,3,2,2,0]])\n",
        "vecdelta = np.array([4,-2])\n",
        "matran_biendoi = np.array([[1.0, 0.0],[ 0.0, 2.0]])\n",
        "P_caub = (P.T @ matran_biendoi + vecdelta).T\n",
        "print (P_caub)\n",
        "\n",
        "import sympy as sp\n",
        "from sympy import lambdify\n",
        "x1, x2, x3 = sp.symbols('x1 x2 x3')\n",
        "bieuthuc1 = x1 - x2 + x3\n",
        "f1 = lambdify([x1, x2, x3], bieuthuc1, 'numpy')\n",
        "a, b, c = sp.symbols('a b c')\n",
        "d, e, f = sp.symbols('d e f')\n",
        "print(f1(a, b, c))\n",
        "print(f1(d, e, f))\n",
        "f1(a+d, b+e, c+f)\n",
        "f1(a,b,c) + f1(d,e,f) == f1(a+d, b+e, c+f)\n",
        "(f1(a,b,c) + f1(d,e,f)).equals( f1(a+d, b+e, c+f))\n",
        "q = sp.symbols('q')\n",
        "(q*f1(a,b,c) + f1(d,e,f)).equals(f1(q*a+d, q*b+e, q*c+f).expand())\n",
        "bieuthuc2 = 2*x2 + 3* x3\n",
        "f2 = lambdify([x1, x2, x3], bieuthuc2, 'numpy')\n",
        "(q*f2(a,b,c) + f2(d,e,f)).equals(f2(q*a+d, q*b+e, q*c+f).expand())\n",
        "\n",
        "import sympy as sp\n",
        "a, b = sp.symbols('a b')\n",
        "x, y = sp.symbols('x y')\n",
        "sp.solve([a+3*b-x, 2*a+5*b-y],[a,b])\n",
        "fu1 = np.array([1,1,2])\n",
        "fu2 = np.array([4,2,1])\n",
        "fu = a*fu1 + b*fu2\n",
        "print (fu)\n",
        "fu = a.subs(a, -5*x + 3*y)*fu1 + b.subs(b, 2*x - y)*fu2\n",
        "print (fu)\n",
        "\n",
        "x1, x2, x3 = sp.symbols('x1 x2 x3')\n",
        "sp.solve([x1+x2-x3, 2*x1+3*x2-x3, 3*x1+5*x2-x3],[x1, x2, x3])\n",
        "\n",
        "import numpy as np\n",
        "import math\n",
        "from scipy import linalg as LA\n",
        "B = np.matrix([[1.0/math.sqrt(2), 1.0/math.sqrt(2)],[-1.0/math.sqrt(2),1.0/math.sqrt(2)]])\n",
        "LA.orth(B)\n",
        "1.0/math.sqrt(2)"
      ]
    },
    {
      "cell_type": "markdown",
      "source": [
        "BÀI TẬP VỀ NHÀ"
      ],
      "metadata": {
        "id": "5Wfm7NGorFss"
      }
    },
    {
      "cell_type": "code",
      "source": [
        "import numpy as np\n",
        "\n",
        "def g(v):\n",
        "    x, y, z = v\n",
        "    return np.array([x + y, z + 2, 0])\n",
        "u = np.array([1, 2, 3])\n",
        "v = np.array([4, -1, 0])\n",
        "c = 3\n",
        "left_add = g(u + v)\n",
        "right_add = g(u) + g(v)\n",
        "left_scalar = g(c * u)\n",
        "right_scalar = c * g(u)\n",
        "print(\"Kiểm tra tính cộng:\")\n",
        "print(\"g(u + v)       =\", left_add)\n",
        "print(\"g(u) + g(v)    =\", right_add)\n",
        "if  np.allclose(left_add, right_add) == True :\n",
        " print(\"Kiểm tra tính nhân vô hướng:\")\n",
        " print(\"g(c * u)       =\", left_scalar)\n",
        " print(\"c * g(u)       =\", right_scalar)\n",
        " print(\"Kết luận: không phải ánh xạ tuyến tính\")\n",
        "else :\n",
        "  print(\"Kết luận: không phải ánh xạ tuyến tính\")\n",
        "\n",
        "import numpy as np\n",
        "A = np.array([[0, 1],[1, -1]])\n",
        "F = np.array([[0, 1, 1, 0], [0, 0, 1, 1]])\n",
        "F_doi = A @ F\n",
        "print(\"Tọa độ điểm ban đầu (F):\")\n",
        "print(F)\n",
        "print(\"Tọa độ sau biến đổi f(F) = A --> F:\")\n",
        "print(F_doi)\n",
        "\n",
        "import sympy as sp\n",
        "v1, v2 = sp.symbols('v1 v2')\n",
        "u1, u2 = sp.symbols('u1 u2')\n",
        "c = sp.symbols('c')\n",
        "def T(v1, v2):\n",
        "    return sp.Matrix([v1 - v2, v1 + 2*v2])\n",
        "T_add = T(u1 + v1, u2 + v2)\n",
        "T_u = T(u1, u2)\n",
        "T_v = T(v1, v2)\n",
        "T_u_plus_T_v = T_u + T_v\n",
        "if T_add.equals(T_u_plus_T_v)== True :\n",
        "  T_cv = T(c*v1, c*v2)\n",
        "  c_Tv = c * T(v1, v2)\n",
        "  if  T_cv.equals(c_Tv)==True :\n",
        "    print(\"Kết luận: là ánh xạ tuyến tính\")\n",
        "  else :\n",
        "    print(\"Kết luận: không phải ánh xạ tuyến tính\")\n",
        "\n",
        "\n",
        "\n"
      ],
      "metadata": {
        "colab": {
          "base_uri": "https://localhost:8080/"
        },
        "id": "mPWusy9SrKK-",
        "outputId": "95f0adda-7f39-49aa-bc56-73b1e60ab27e"
      },
      "execution_count": 30,
      "outputs": [
        {
          "output_type": "stream",
          "name": "stdout",
          "text": [
            "Kiểm tra tính cộng:\n",
            "g(u + v)       = [6 5 0]\n",
            "g(u) + g(v)    = [6 7 0]\n",
            "Kết luận: không phải ánh xạ tuyến tính\n",
            "Tọa độ điểm ban đầu (F):\n",
            "[[0 1 1 0]\n",
            " [0 0 1 1]]\n",
            "Tọa độ sau biến đổi f(F) = A --> F:\n",
            "[[ 0  0  1  1]\n",
            " [ 0  1  0 -1]]\n",
            "Kết luận: là ánh xạ tuyến tính\n"
          ]
        }
      ]
    }
  ]
}