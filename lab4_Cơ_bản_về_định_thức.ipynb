{
  "nbformat": 4,
  "nbformat_minor": 0,
  "metadata": {
    "colab": {
      "provenance": []
    },
    "kernelspec": {
      "name": "python3",
      "display_name": "Python 3"
    },
    "language_info": {
      "name": "python"
    }
  },
  "cells": [
    {
      "cell_type": "markdown",
      "source": [
        "BÀI TẬP TRÊN LỚP"
      ],
      "metadata": {
        "id": "b51XA4QSaL3p"
      }
    },
    {
      "cell_type": "code",
      "execution_count": null,
      "metadata": {
        "colab": {
          "base_uri": "https://localhost:8080/",
          "height": 299
        },
        "id": "vsJv0icjT8Rt",
        "outputId": "0bf9fb00-f7b9-4340-de21-ff396905f358"
      },
      "outputs": [
        {
          "output_type": "stream",
          "name": "stdout",
          "text": [
            "-1\n",
            "1\n",
            "1\n",
            "[(1, 2, 3), (1, 3, 2), (2, 1, 3), (2, 3, 1), (3, 1, 2), (3, 2, 1)]\n",
            "+a11a22-a12a21\n",
            "+a11a22a33-a11a23a32-a12a21a33+a13a21a32+a12a23a31-a13a22a31\n",
            "0\n",
            "-14.0 -28.0 14.000000000000004\n",
            "Hai nghiệm của phương trình là:  2.0 -1.0000000000000002\n",
            "-14\n",
            "-28\n",
            "14\n",
            "Hệ có vô số nghiệm\n",
            "-72\n",
            "-12.0000000000000\n"
          ]
        },
        {
          "output_type": "execute_result",
          "data": {
            "text/plain": [
              "-4*x + 3*y - 5*z - 3"
            ],
            "text/latex": "$\\displaystyle - 4 x + 3 y - 5 z - 3$"
          },
          "metadata": {},
          "execution_count": 27
        }
      ],
      "source": [
        "import numpy as np\n",
        "n = 4\n",
        "X = np.array(range(1, n+1))\n",
        "sigma = np.array([4,3,2,1])\n",
        "def sgn_def(sigma):\n",
        "    ketqua = 1.0\n",
        "    for i in range(len(sigma)-1):\n",
        "        for j in range(i+1, len(sigma)):\n",
        "            if sigma[i] != sigma[j]:\n",
        "                ketqua *= (X[i] - X[j]) / (sigma[i] - sigma[j])\n",
        "            else:\n",
        "                return 0\n",
        "    return int(ketqua)\n",
        "\n",
        "sigma = np.array([2,1,3,4])\n",
        "print(sgn_def(sigma))\n",
        "sigma = np.array([1,2,3,4])\n",
        "print(sgn_def(sigma))\n",
        "sigma = np.array([4,3,2,1])\n",
        "print(sgn_def(sigma))\n",
        "\n",
        "from itertools import permutations\n",
        "n = 3\n",
        "X = []\n",
        "for i in range (1, n+1):\n",
        "    X.append(i)\n",
        "Sn = list(permutations(X))\n",
        "print(Sn)\n",
        "\n",
        "def phatsinh_dinhthuc(n):\n",
        "    X = []\n",
        "    for i in range(1, n+1):\n",
        "        X.append(i)\n",
        "    Sn = list(permutations(X))\n",
        "    dinhthuc = \"\"\n",
        "    for sn in Sn:\n",
        "        sigma = np.array([1])\n",
        "        sigma.resize([n])\n",
        "        product = \"\"\n",
        "        for i in range(1, n+1):\n",
        "            sigma[sn.index(i)] = i\n",
        "            product = product + \"a\" + str(i) + str(sn.index(i)+1)\n",
        "        dau = sgn_def(sigma)\n",
        "        if dau != 1:\n",
        "            product = \"-\" + product\n",
        "        else:\n",
        "            product = \"+\" + product\n",
        "        dinhthuc = dinhthuc + product\n",
        "    return dinhthuc\n",
        "\n",
        "print(phatsinh_dinhthuc(2))\n",
        "print(phatsinh_dinhthuc(3))\n",
        "\n",
        "def tinhtoan_dinhthuc(A):\n",
        "    X = []\n",
        "    import math\n",
        "    n = int(math.sqrt(A.size))\n",
        "    for i in range(1, n+1):\n",
        "        X.append(i)\n",
        "    Sn = list(permutations(X))\n",
        "    dinhthuc = 0\n",
        "    for sn in Sn:\n",
        "        sigma = np.array([1])\n",
        "        sigma.resize([n])\n",
        "        product = 1\n",
        "        for i in range(1, n+1):\n",
        "            sigma[sn.index(i)] = i\n",
        "            product = product * A[i-1][sn.index(i)]\n",
        "        dau = sgn_def(sigma)\n",
        "        if dau != 1:\n",
        "            product = product * (-1)\n",
        "        dinhthuc = dinhthuc + product\n",
        "    return dinhthuc\n",
        "matran = np.array([ [3,5,-8], [4, 12, -1], [2,5,3] ])\n",
        "print(tinhtoan_dinhthuc(A))\n",
        "# giải hệ 2 pt\n",
        "import numpy as np\n",
        "A = np.array([[4, -2],[3, -5]])\n",
        "A1 = np.array([[10, -2],[11, -5]])\n",
        "A2 = np.array([[4, 10],[3, 11]])\n",
        "from scipy import linalg\n",
        "detA = linalg.det(A)\n",
        "detA1 = linalg.det(A1)\n",
        "detA2 = linalg.det(A2)\n",
        "print (detA, detA1, detA2)\n",
        "if (detA != 0):\n",
        "  x1 = detA1 / detA\n",
        "  x2 = detA2 / detA\n",
        "print (\"Hai nghiệm của phương trình là: \", x1, x2)\n",
        "print(tinhtoan_dinhthuc(A))\n",
        "print(tinhtoan_dinhthuc(A1))\n",
        "print(tinhtoan_dinhthuc(A2))\n",
        "#hệ pt tuyến tính bậc 1\n",
        "import numpy as np\n",
        "A = np.array([[-1, 2, -3],\n",
        "              [2, -2, 1],\n",
        "              [3, -4, 4]])\n",
        "\n",
        "b = np.array([1, 3, 2])\n",
        "\n",
        "rank_A = np.linalg.matrix_rank(A)\n",
        "augmented_matrix = np.column_stack((A, b))\n",
        "rank_augmented = np.linalg.matrix_rank(augmented_matrix)\n",
        "if rank_A == rank_augmented:\n",
        "    if rank_A == A.shape[1]:\n",
        "        solution = np.linalg.solve(A, b)\n",
        "        print(\"Hệ có nghiệm duy nhất:\")\n",
        "        print(f\"a = {solution[0]}\")\n",
        "        print(f\"e = {solution[1]}\")\n",
        "        print(f\"f = {solution[2]}\")\n",
        "    else:\n",
        "        print(\"Hệ có vô số nghiệm\")\n",
        "else:\n",
        "    print(\"Hệ vô nghiệm\")\n",
        "\n",
        "# bài toán ứng dụng 1\n",
        "import sympy as sp\n",
        "TG = sp.Matrix([[1, 0, 1],[4, 3, 1], [2, 2, 1]])\n",
        "1/2*TG.det()\n",
        "from sympy import Matrix\n",
        "M = Matrix([[0, 4, 1, 1], [4, 0, 0, 1], [3, 5, 2, 1], [2, 2, 5, 1]])\n",
        "print(M.det())\n",
        "print(1/6*M.det())\n",
        "# ứng dụng 4\n",
        "from sympy import *\n",
        "x, y, z = symbols('x y z')\n",
        "MP = Matrix([[x, y, z, 1],[-1, 3, 2, 1],[0, 1, 0, 1],[-2, 0, 1, 1]])\n",
        "MP.det()"
      ]
    },
    {
      "cell_type": "markdown",
      "source": [
        "BÀI TẬP VỀ NHÀ"
      ],
      "metadata": {
        "id": "h6HgiQlRgeDR"
      }
    },
    {
      "cell_type": "code",
      "source": [
        "# bài 1\n",
        "import numpy as np\n",
        "A = np.array([[2, 3, 1],[1, -2, 0],[4, 1, 3]])\n",
        "n = A.shape[0]\n",
        "cof = np.zeros((n, n))\n",
        "for i in range(n):\n",
        "    for j in range(n):\n",
        "        M = np.delete(np.delete(A, i, axis=0), j, axis=1)\n",
        "        cof[i][j] = (-1) ** (i + j) * np.linalg.det(M)\n",
        "adj = cof.T\n",
        "print(A)\n",
        "print(cof)\n",
        "print(adj)\n",
        "# bài q\n",
        "from sympy import symbols, Matrix, Eq, pprint\n",
        "x, y = symbols('x y')\n",
        "x1, y1 = 1, 1\n",
        "x2, y2 = 2, 4\n",
        "x3, y3 = 5, 3\n",
        "row1 = [x**2 + y**2, x, y, 1]\n",
        "row2 = [x1**2 + y1**2, x1, y1, 1]\n",
        "row3 = [x2**2 + y2**2, x2, y2, 1]\n",
        "row4 = [x3**2 + y3**2, x3, y3, 1]\n",
        "M = Matrix([row1, row2, row3, row4])\n",
        "dinhthuc = M.det()\n",
        "pprint(Eq(dinhthuc, 0))\n",
        "\n"
      ],
      "metadata": {
        "colab": {
          "base_uri": "https://localhost:8080/"
        },
        "id": "uj3Zo8GtaPl6",
        "outputId": "29bbf58e-e577-4caf-c811-6f4a9ef24c04"
      },
      "execution_count": null,
      "outputs": [
        {
          "output_type": "stream",
          "name": "stdout",
          "text": [
            "[[ 2  3  1]\n",
            " [ 1 -2  0]\n",
            " [ 4  1  3]]\n",
            "[[-6. -3.  9.]\n",
            " [-8.  2. 10.]\n",
            " [ 2.  1. -7.]]\n",
            "[[-6. -8.  2.]\n",
            " [-3.  2.  1.]\n",
            " [ 9. 10. -7.]]\n",
            "      2              2                \n",
            "- 10⋅x  + 60⋅x - 10⋅y  + 40⋅y - 80 = 0\n"
          ]
        }
      ]
    },
    {
      "cell_type": "markdown",
      "source": [],
      "metadata": {
        "id": "7Ecnt79DYXb7"
      }
    }
  ]
}